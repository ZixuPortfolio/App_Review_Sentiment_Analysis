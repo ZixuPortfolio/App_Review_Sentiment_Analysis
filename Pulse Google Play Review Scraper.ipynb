{
 "cells": [
  {
   "cell_type": "code",
   "execution_count": 1,
   "id": "76e9fbb3",
   "metadata": {},
   "outputs": [],
   "source": [
    "import pandas as pd\n",
    "\n",
    "from google_play_scraper import Sort, reviews_all"
   ]
  },
  {
   "cell_type": "code",
   "execution_count": 2,
   "id": "51492f12",
   "metadata": {},
   "outputs": [],
   "source": [
    "result = reviews_all(\n",
    "    'com.prudential.pulse.onepulse',\n",
    "    sleep_milliseconds=0, # defaults to 0\n",
    "    lang='en', # defaults to 'en'\n",
    "    country='sg', # defaults to 'us'\n",
    "    sort=Sort.NEWEST # defaults to Sort.MOST_RELEVANT. Sorted to newest to get all reviews.\n",
    ")"
   ]
  },
  {
   "cell_type": "code",
   "execution_count": 3,
   "id": "efd5be53",
   "metadata": {},
   "outputs": [
    {
     "data": {
      "text/plain": [
       "2147"
      ]
     },
     "execution_count": 3,
     "metadata": {},
     "output_type": "execute_result"
    }
   ],
   "source": [
    "len(result)"
   ]
  },
  {
   "cell_type": "code",
   "execution_count": 4,
   "id": "b1ff1cf3",
   "metadata": {
    "scrolled": true
   },
   "outputs": [
    {
     "name": "stdout",
     "output_type": "stream",
     "text": [
      "{'reviewId': 'gp:AOqpTOGLtpLGPvPQojtkRAABYTBPxvMutSHBz9jlkxPoPJQ-nmGXCZXHqyDLExN7txEEufnLn5Bmq8y8QRcMhA', 'userName': 'Eileen Lim', 'userImage': 'https://play-lh.googleusercontent.com/a/AATXAJzM59zTIOTqW8Uq9pVZfcAUqY2fn4MlYA-Nfs6WlA=mo', 'content': \"Need to login to singpass when sign up for free covid cover but qr code don't work\", 'score': 1, 'thumbsUpCount': 0, 'reviewCreatedVersion': '1.1.82', 'at': datetime.datetime(2021, 6, 23, 21, 40, 18), 'replyContent': None, 'repliedAt': None}\n"
     ]
    }
   ],
   "source": [
    "print(result[0])"
   ]
  },
  {
   "cell_type": "code",
   "execution_count": 5,
   "id": "8e2a292c",
   "metadata": {},
   "outputs": [],
   "source": [
    "app_reviews_df = pd.DataFrame(result)\n",
    "app_reviews_df.to_csv('reviews.csv', index=None, header=True)"
   ]
  },
  {
   "cell_type": "code",
   "execution_count": null,
   "id": "23a8a77c",
   "metadata": {},
   "outputs": [],
   "source": []
  }
 ],
 "metadata": {
  "kernelspec": {
   "display_name": "Python 3",
   "language": "python",
   "name": "python3"
  },
  "language_info": {
   "codemirror_mode": {
    "name": "ipython",
    "version": 3
   },
   "file_extension": ".py",
   "mimetype": "text/x-python",
   "name": "python",
   "nbconvert_exporter": "python",
   "pygments_lexer": "ipython3",
   "version": "3.7.10"
  }
 },
 "nbformat": 4,
 "nbformat_minor": 5
}
